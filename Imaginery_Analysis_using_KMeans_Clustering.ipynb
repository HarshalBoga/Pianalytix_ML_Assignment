{
  "nbformat": 4,
  "nbformat_minor": 0,
  "metadata": {
    "colab": {
      "name": "Imaginery Analysis using KMeans Clustering.ipynb",
      "provenance": [],
      "collapsed_sections": [],
      "authorship_tag": "ABX9TyOcQ//6FENnkZisvbAcPnn6",
      "include_colab_link": true
    },
    "kernelspec": {
      "name": "python3",
      "display_name": "Python 3"
    },
    "language_info": {
      "name": "python"
    }
  },
  "cells": [
    {
      "cell_type": "markdown",
      "metadata": {
        "id": "view-in-github",
        "colab_type": "text"
      },
      "source": [
        "<a href=\"https://colab.research.google.com/github/HarshalBoga/Pianalytix_ML_Assignment/blob/main/Imaginery_Analysis_using_KMeans_Clustering.ipynb\" target=\"_parent\"><img src=\"https://colab.research.google.com/assets/colab-badge.svg\" alt=\"Open In Colab\"/></a>"
      ]
    },
    {
      "cell_type": "markdown",
      "metadata": {
        "id": "uq-o6sGT4JOL"
      },
      "source": [
        "# Project Title: Imaginary Anaysis using KMeans Clustering."
      ]
    },
    {
      "cell_type": "markdown",
      "metadata": {
        "id": "0MJgOmTn4Xn9"
      },
      "source": [
        "## Part I: Importing the MNIST Dataset"
      ]
    },
    {
      "cell_type": "markdown",
      "metadata": {
        "id": "ph5dkrqH4gGE"
      },
      "source": [
        "For this project, we will be using the MNIST dataset. It is available through keras, a deep learning. Although we won't be using other features of keras, it will save us time to import mnist from this library."
      ]
    },
    {
      "cell_type": "markdown",
      "metadata": {
        "id": "WhQd_r5g4pUW"
      },
      "source": [
        "Importing the necessary Libraries."
      ]
    },
    {
      "cell_type": "code",
      "metadata": {
        "id": "P62f2ZK84AZR"
      },
      "source": [
        "import sys\n",
        "import sklearn\n",
        "import matplotlib\n",
        "import numpy as np"
      ],
      "execution_count": 1,
      "outputs": []
    },
    {
      "cell_type": "code",
      "metadata": {
        "id": "u1cWchov4tQ4"
      },
      "source": [
        "# Importing our dataset for the project.\n",
        "\n",
        "from keras.datasets import mnist\n"
      ],
      "execution_count": 2,
      "outputs": []
    },
    {
      "cell_type": "code",
      "metadata": {
        "colab": {
          "base_uri": "https://localhost:8080/"
        },
        "id": "3bHf3q6Q453S",
        "outputId": "1c688575-d087-47ed-d54b-c326142a8052"
      },
      "source": [
        "# Train-Test Split.\n",
        "\n",
        "(x_train, y_train), (x_test, y_test) = mnist.load_data()"
      ],
      "execution_count": 3,
      "outputs": [
        {
          "output_type": "stream",
          "name": "stdout",
          "text": [
            "Downloading data from https://storage.googleapis.com/tensorflow/tf-keras-datasets/mnist.npz\n",
            "11493376/11490434 [==============================] - 0s 0us/step\n",
            "11501568/11490434 [==============================] - 0s 0us/step\n"
          ]
        }
      ]
    },
    {
      "cell_type": "code",
      "metadata": {
        "colab": {
          "base_uri": "https://localhost:8080/"
        },
        "id": "HPUPln-c5ClV",
        "outputId": "ed6c8518-4cbd-42b3-9210-546c32d43dd7"
      },
      "source": [
        "# Printing the shape of Training dataset.\n",
        "\n",
        "print('Training Data: {}'.format(x_train.shape))\n",
        "print('Training Labels: {}'.format(y_train.shape))"
      ],
      "execution_count": 7,
      "outputs": [
        {
          "output_type": "stream",
          "name": "stdout",
          "text": [
            "Training Data: (60000, 28, 28)\n",
            "Training Labels: (60000,)\n"
          ]
        }
      ]
    },
    {
      "cell_type": "code",
      "metadata": {
        "colab": {
          "base_uri": "https://localhost:8080/"
        },
        "id": "j1Ncgnhu5F6-",
        "outputId": "cb7c61e4-29fe-4815-bb85-82e9cccb16b7"
      },
      "source": [
        "# Printing the shape of Testing dataset.\n",
        "\n",
        "print('Testing Data: {}'.format(x_test.shape))\n",
        "print('Testing Labels: {}'.format(y_test.shape))"
      ],
      "execution_count": 8,
      "outputs": [
        {
          "output_type": "stream",
          "name": "stdout",
          "text": [
            "Testing Data: (10000, 28, 28)\n",
            "Testing Labels: (10000,)\n"
          ]
        }
      ]
    },
    {
      "cell_type": "code",
      "metadata": {
        "id": "VtipRErb6CDe"
      },
      "source": [
        "import matplotlib.pyplot as plt\n",
        "%matplotlib inline"
      ],
      "execution_count": 10,
      "outputs": []
    },
    {
      "cell_type": "code",
      "metadata": {
        "colab": {
          "base_uri": "https://localhost:8080/",
          "height": 709
        },
        "id": "Frm_XCiH6Eka",
        "outputId": "3f035e32-ca2d-4195-e9b8-aade7b930021"
      },
      "source": [
        "# creating a figure with 3x3 subplots using matplotlib.pyplot.\n",
        "\n",
        "fig, axs = plt.subplots(3, 3, figsize = (12, 12))\n",
        "plt.gray()\n",
        "\n",
        "# looping through subplots and adding mnist images.\n",
        "\n",
        "for i, ax in enumerate(axs.flat):\n",
        "    ax.matshow(x_train[i])\n",
        "    ax.axis('off')\n",
        "    ax.set_title('Number {}'.format(y_train[i]))\n",
        "    \n",
        "# displaying the final figure.\n",
        "\n",
        "fig.show()"
      ],
      "execution_count": 11,
      "outputs": [
        {
          "output_type": "display_data",
          "data": {
            "image/png": "[encoded data removed]",
            "text/plain": [
              "<Figure size 864x864 with 9 Axes>"
            ]
          },
          "metadata": {
            "needs_background": "light"
          }
        }
      ]
    },
    {
      "cell_type": "markdown",
      "metadata": {
        "id": "-acR2ymw6cci"
      },
      "source": [
        "This concludes part 1."
      ]
    },
    {
      "cell_type": "markdown",
      "metadata": {
        "id": "YJnHvYWb6fd2"
      },
      "source": [
        "## Part II: Preprocessing the MNIST images"
      ]
    },
    {
      "cell_type": "markdown",
      "metadata": {
        "id": "t8Lp8KzM6l-i"
      },
      "source": [
        "Images stored as NumPy arrays are 2-dimensional arrays. However, the K-means clustering algorithm provided by scikit-learn ingests 1-dimensional arrays, as a result, we will need to reshape each image.\n",
        "\n",
        "Clustering algorithms almost always use 1-dimensional data. For example, if you were clustering a set of X, Y coordinates, each point would be passed to the clustering algorithm as a 1-dimensional array with a length of two (example: [2,4] or [-1, 4]). If you were using 3-dimensional data, the array would have a length of 3 (example: [2, 4, 1] or [-1, 4, 5]).\n",
        "\n",
        "MNIST contains images that are 28 by 28 pixels; as a result, they will have a length of 784 once we reshape them into a 1-dimensional array."
      ]
    },
    {
      "cell_type": "code",
      "metadata": {
        "colab": {
          "base_uri": "https://localhost:8080/"
        },
        "id": "k1fIaPLA6RK6",
        "outputId": "754479d6-51f5-4c6d-9b5d-33fe0157c3c7"
      },
      "source": [
        "# preprocessing the images\n",
        "\n",
        "# converting each image to 1 dimensional array.\n",
        "\n",
        "X = x_train.reshape(len(x_train),-1)\n",
        "Y = y_train\n",
        "\n",
        "# normalizing the data to 0 - 1.\n",
        "\n",
        "X = X.astype(float) / 255.\n",
        "\n",
        "print(X.shape)\n",
        "print(X[0].shape)"
      ],
      "execution_count": 12,
      "outputs": [
        {
          "output_type": "stream",
          "name": "stdout",
          "text": [
            "(60000, 784)\n",
            "(784,)\n"
          ]
        }
      ]
    },
    {
      "cell_type": "markdown",
      "metadata": {
        "id": "7uHqOt7b7N0o"
      },
      "source": [
        "## Part III: K-Means Clustering"
      ]
    },
    {
      "cell_type": "markdown",
      "metadata": {
        "id": "1xgwPSOg7S4t"
      },
      "source": [
        "Time to start clustering! Due to the size of the MNIST dataset, we will use the mini-batch implementation of k-means clustering provided by scikit-learn. This will dramatically reduce the amount of time it takes to fit the algorithm to the data.\n",
        "\n",
        "The MNIST dataset contains images of the integers 0 to 9. Because of this, let's start by setting the number of clusters to 10, one for each digit."
      ]
    },
    {
      "cell_type": "code",
      "metadata": {
        "colab": {
          "base_uri": "https://localhost:8080/"
        },
        "id": "BXCCoM-u7Qx2",
        "outputId": "1b41e984-4f4c-4840-b5f7-c4dec578ae95"
      },
      "source": [
        "from sklearn.cluster import MiniBatchKMeans\n",
        "\n",
        "n_digits = len(np.unique(y_test))\n",
        "print(n_digits)\n",
        "\n",
        "# Initializing the KMeans model.\n",
        "kmeans = MiniBatchKMeans(n_clusters = n_digits)\n",
        "\n",
        "# Fitting the model to the training data.\n",
        "kmeans.fit(X)"
      ],
      "execution_count": 13,
      "outputs": [
        {
          "output_type": "stream",
          "name": "stdout",
          "text": [
            "10\n"
          ]
        },
        {
          "output_type": "execute_result",
          "data": {
            "text/plain": [
              "MiniBatchKMeans(batch_size=100, compute_labels=True, init='k-means++',\n",
              "                init_size=None, max_iter=100, max_no_improvement=10,\n",
              "                n_clusters=10, n_init=3, random_state=None,\n",
              "                reassignment_ratio=0.01, tol=0.0, verbose=0)"
            ]
          },
          "metadata": {},
          "execution_count": 13
        }
      ]
    },
    {
      "cell_type": "code",
      "metadata": {
        "colab": {
          "base_uri": "https://localhost:8080/"
        },
        "id": "cg07MJE17Y7_",
        "outputId": "2697e5a3-f2ad-43d6-c3ac-d7e2c7cf0225"
      },
      "source": [
        "kmeans.labels_"
      ],
      "execution_count": 14,
      "outputs": [
        {
          "output_type": "execute_result",
          "data": {
            "text/plain": [
              "array([1, 8, 4, ..., 1, 7, 0], dtype=int32)"
            ]
          },
          "metadata": {},
          "execution_count": 14
        }
      ]
    },
    {
      "cell_type": "code",
      "metadata": {
        "id": "9_oFdzEg7cA9"
      },
      "source": [
        ""
      ],
      "execution_count": null,
      "outputs": []
    },
    {
      "cell_type": "markdown",
      "metadata": {
        "id": "zxW8Wn387dNJ"
      },
      "source": [
        "## Part IV: Assigning Cluster Labels"
      ]
    },
    {
      "cell_type": "markdown",
      "metadata": {
        "id": "lucPJ0Zp7lkT"
      },
      "source": [
        "KMeans description: K-means clustering is an unsupervised machine learning method; consequently, the labels assigned by our KMeans algorithm refer to the cluster each array was assigned to, not the actual target integer. To fix this, let's define a few functions that will predict which integer corresponds to each cluster."
      ]
    },
    {
      "cell_type": "code",
      "metadata": {
        "id": "4m4gf1Zy7jh_"
      },
      "source": [
        "def infer_cluster_labels(kmeans, actual_labels):\n",
        "   \n",
        "    \"\"\"\n",
        "    Associates most probable label with each cluster in KMeans model\n",
        "    returns: dictionary of clusters assigned to each label\n",
        "    \"\"\"\n",
        "\n",
        "    inferred_labels = {}\n",
        "\n",
        "    for i in range(kmeans.n_clusters):\n",
        "\n",
        "        # find index of points in cluster.\n",
        "\n",
        "        labels = []\n",
        "        index = np.where(kmeans.labels_ == i)\n",
        "\n",
        "        # append actual labels for each point in cluster.\n",
        "\n",
        "        labels.append(actual_labels[index])\n",
        "\n",
        "        # determine most common label.\n",
        "\n",
        "        if len(labels[0]) == 1:\n",
        "            counts = np.bincount(labels[0])\n",
        "        else:\n",
        "            counts = np.bincount(np.squeeze(labels))\n",
        "\n",
        "        # assign the cluster to a value in the inferred_labels dictionary.\n",
        "\n",
        "        if np.argmax(counts) in inferred_labels:\n",
        "            # append the new number to the existing array at this slot.\n",
        "            inferred_labels[np.argmax(counts)].append(i)\n",
        "        else:\n",
        "            # create a new array in this slot.\n",
        "            inferred_labels[np.argmax(counts)] = [i]\n",
        "        \n",
        "    return inferred_labels  \n",
        "\n",
        "def infer_data_labels(X_labels, cluster_labels):\n",
        "    \"\"\"\n",
        "    Determines label for each array, depending on the cluster it has been assigned to.\n",
        "    returns: predicted labels for each array\n",
        "    \"\"\"\n",
        "    \n",
        "    # empty array of len(X).\n",
        "    \n",
        "    predicted_labels = np.zeros(len(X_labels)).astype(np.uint8)\n",
        "    \n",
        "    for i, cluster in enumerate(X_labels):\n",
        "        for key, value in cluster_labels.items():\n",
        "            if cluster in value:\n",
        "                predicted_labels[i] = key\n",
        "                \n",
        "    return predicted_labels"
      ],
      "execution_count": 15,
      "outputs": []
    },
    {
      "cell_type": "code",
      "metadata": {
        "colab": {
          "base_uri": "https://localhost:8080/"
        },
        "id": "UESTaaby74q_",
        "outputId": "5fa9435e-ad1e-492b-e8b4-d819f06be191"
      },
      "source": [
        "# testing the infer_cluster_labels() and infer_data_labels() functions.\n",
        "\n",
        "cluster_labels = infer_cluster_labels(kmeans, Y)\n",
        "X_clusters = kmeans.predict(X)\n",
        "predicted_labels = infer_data_labels(X_clusters, cluster_labels)\n",
        "print (predicted_labels[:20])\n",
        "print (Y[:20])"
      ],
      "execution_count": 16,
      "outputs": [
        {
          "output_type": "stream",
          "name": "stdout",
          "text": [
            "[8 0 4 1 7 6 1 8 1 7 8 1 3 6 1 7 6 1 1 7]\n",
            "[5 0 4 1 9 2 1 3 1 4 3 5 3 6 1 7 2 8 6 9]\n"
          ]
        }
      ]
    },
    {
      "cell_type": "code",
      "metadata": {
        "id": "LZAIOrH_7_Qp"
      },
      "source": [
        ""
      ],
      "execution_count": null,
      "outputs": []
    },
    {
      "cell_type": "markdown",
      "metadata": {
        "id": "ScNH-uUx8BHc"
      },
      "source": [
        "## Part V: Optimizing and Evaluating the Clustering Algorithm"
      ]
    },
    {
      "cell_type": "markdown",
      "metadata": {
        "id": "BSB3isex8FmX"
      },
      "source": [
        "With the functions defined above, we can now determine the accuracy of our algorithms. Since we are using this clustering algorithm for classification, accuracy is ultimately the most important metric; however, there are other metrics out there that can be applied directly to the clusters themselves, regardless of the associated labels. Two of these metrics that we will use are inertia and homogeneity.\n",
        "\n",
        "Furthermore, earlier we made the assumption that K = 10 was the appropriate number of clusters; however, this might not be the case. Let's fit the K-means clustering algorithm with several different values of K, than evaluate the performance using our metrics."
      ]
    },
    {
      "cell_type": "code",
      "metadata": {
        "id": "usKo7HkC8Dxc"
      },
      "source": [
        "from sklearn import metrics\n",
        "\n",
        "def calculate_metrics(estimator, data, labels):\n",
        "\n",
        "    # Calculating and printing metrics.\n",
        "    \n",
        "    print('Number of Clusters: {}'.format(estimator.n_clusters))\n",
        "    print('Inertia: {}'.format(estimator.inertia_))\n",
        "    print('Homogeneity: {}'.format(metrics.homogeneity_score(labels, estimator.labels_)))"
      ],
      "execution_count": 17,
      "outputs": []
    },
    {
      "cell_type": "code",
      "metadata": {
        "colab": {
          "base_uri": "https://localhost:8080/"
        },
        "id": "UqVbNhR58NiA",
        "outputId": "112cfdad-eae1-4c71-867e-e75ba6e52a89"
      },
      "source": [
        "clusters = [10, 16, 36, 64, 144, 256]\n",
        "\n",
        "# test different numbers of clusters for best effeincy.\n",
        "\n",
        "for n_clusters in clusters:\n",
        "    estimator = MiniBatchKMeans(n_clusters = n_clusters)\n",
        "    estimator.fit(X)\n",
        "  \n",
        "    # print cluster metrics.\n",
        "\n",
        "    calculate_metrics(estimator, X, Y)\n",
        "    \n",
        "    # determine predicted labels.\n",
        "\n",
        "    cluster_labels = infer_cluster_labels(estimator, Y)\n",
        "    predicted_Y = infer_data_labels(estimator.labels_, cluster_labels)\n",
        "    \n",
        "    # calculate and print accuracy.\n",
        "    \n",
        "    print('Accuracy: {}\\n'.format(metrics.accuracy_score(Y, predicted_Y)))"
      ],
      "execution_count": 18,
      "outputs": [
        {
          "output_type": "stream",
          "name": "stdout",
          "text": [
            "Number of Clusters: 10\n",
            "Inertia: 2387407.95702029\n",
            "Homogeneity: 0.4291660822165996\n",
            "Accuracy: 0.49566666666666664\n",
            "\n",
            "Number of Clusters: 16\n",
            "Inertia: 2216198.1999744847\n",
            "Homogeneity: 0.5562720412149191\n",
            "Accuracy: 0.6477833333333334\n",
            "\n",
            "Number of Clusters: 36\n",
            "Inertia: 1954197.6765191115\n",
            "Homogeneity: 0.6880433372768096\n",
            "Accuracy: 0.76835\n",
            "\n",
            "Number of Clusters: 64\n",
            "Inertia: 1816893.8141094763\n",
            "Homogeneity: 0.736172359700262\n",
            "Accuracy: 0.8104833333333333\n",
            "\n",
            "Number of Clusters: 144\n",
            "Inertia: 1632760.5892662476\n",
            "Homogeneity: 0.8003109283364401\n",
            "Accuracy: 0.8625333333333334\n",
            "\n",
            "Number of Clusters: 256\n",
            "Inertia: 1836901.6780064043\n",
            "Homogeneity: 0.7505143869986515\n",
            "Accuracy: 0.81965\n",
            "\n"
          ]
        }
      ]
    },
    {
      "cell_type": "code",
      "metadata": {
        "colab": {
          "base_uri": "https://localhost:8080/"
        },
        "id": "uxv2poNF8YUA",
        "outputId": "5ee520a6-0728-4453-9406-f641a210396f"
      },
      "source": [
        "# Now testing kmeans algorithm on testing dataset.\n",
        "\n",
        "# converting each image to 1 dimensional array.\n",
        "X_test = x_test.reshape(len(x_test),-1)\n",
        "\n",
        "# normalizing the data to 0 - 1.\n",
        "X_test = X_test.astype(float) / 255.\n",
        "\n",
        "# initializing and fitting KMeans algorithm on training data.\n",
        "kmeans = MiniBatchKMeans(n_clusters = 256)\n",
        "kmeans.fit(X)\n",
        "cluster_labels = infer_cluster_labels(kmeans, Y)\n",
        "\n",
        "# predicting labels for testing data.\n",
        "test_clusters = kmeans.predict(X_test)\n",
        "predicted_labels = infer_data_labels(kmeans.predict(X_test), cluster_labels)\n",
        "    \n",
        "# calculating and printing accuracy\n",
        "print('Accuracy: {}\\n'.format(metrics.accuracy_score(y_test, predicted_labels)))"
      ],
      "execution_count": 19,
      "outputs": [
        {
          "output_type": "stream",
          "name": "stdout",
          "text": [
            "Accuracy: 0.8982\n",
            "\n"
          ]
        }
      ]
    },
    {
      "cell_type": "markdown",
      "metadata": {
        "id": "g5HXH4Oe8804"
      },
      "source": [
        "Here, we got an accuracy of about 89.82%"
      ]
    },
    {
      "cell_type": "code",
      "metadata": {
        "id": "rmsw-7Bb84Oh"
      },
      "source": [
        ""
      ],
      "execution_count": null,
      "outputs": []
    },
    {
      "cell_type": "markdown",
      "metadata": {
        "id": "0BuhH2KM9D5f"
      },
      "source": [
        "## Part VI: Visualizing Cluster Centroids"
      ]
    },
    {
      "cell_type": "markdown",
      "metadata": {
        "id": "2hk66HWM9KZR"
      },
      "source": [
        "The most representative point within each cluster is called the centroid. If we were dealing with X,Y points, the centroid would simply be a point on the graph. However, since we are using arrays of length 784, our centroid is also going to be an array of length 784. We can reshape this array back into a 28 by 28 pixel image and plot it.\n",
        "\n",
        "These graphs will display the most representative image for each cluster."
      ]
    },
    {
      "cell_type": "code",
      "metadata": {
        "colab": {
          "base_uri": "https://localhost:8080/",
          "height": 1000
        },
        "id": "knqSHp-A9Gox",
        "outputId": "400ebc9c-016f-45b4-aff7-b0a8344ed388"
      },
      "source": [
        "# Initializing and fitting KMeans algorithm.\n",
        "\n",
        "kmeans = MiniBatchKMeans(n_clusters = 36)\n",
        "kmeans.fit(X)\n",
        "\n",
        "# recording centroid values.\n",
        "centroids = kmeans.cluster_centers_\n",
        "\n",
        "# reshaping centroids into images.\n",
        "images = centroids.reshape(36, 28, 28)\n",
        "images *= 255\n",
        "images = images.astype(np.uint8)\n",
        "\n",
        "# determining cluster labels.\n",
        "cluster_labels = infer_cluster_labels(kmeans, Y)\n",
        "\n",
        "# creating a figure with subplots using matplotlib.pyplot.\n",
        "fig, axs = plt.subplots(6, 6, figsize = (20, 20))\n",
        "plt.gray()\n",
        "\n",
        "# looping through subplots and then adding centroid images.\n",
        "for i, ax in enumerate(axs.flat):\n",
        "    \n",
        "    # determining inferred label using cluster_labels dictionary.\n",
        "    for key, value in cluster_labels.items():\n",
        "        if i in value:\n",
        "            ax.set_title('Inferred Label: {}'.format(key))\n",
        "    \n",
        "    # adding images to subplot.\n",
        "    ax.matshow(images[i])\n",
        "    ax.axis('off')\n",
        "    \n",
        "# displaying the final figure\n",
        "fig.show()"
      ],
      "execution_count": 20,
      "outputs": [
        {
          "output_type": "display_data",
          "data": {
            "image/png": "[encoded data removed]",
            "text/plain": [
              "<Figure size 1440x1440 with 36 Axes>"
            ]
          },
          "metadata": {
            "needs_background": "light"
          }
        }
      ]
    },
    {
      "cell_type": "markdown",
      "metadata": {
        "id": "Ousemosd9mNa"
      },
      "source": [
        "Hence, we have successfully completed and implemented KMeans Algorithm in our Imaginary Analysis Project."
      ]
    }
  ]
}